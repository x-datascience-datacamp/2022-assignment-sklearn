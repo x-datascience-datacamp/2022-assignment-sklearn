{
 "cells": [
  {
   "cell_type": "code",
   "execution_count": 1,
   "metadata": {},
   "outputs": [],
   "source": [
    "from sklearn.metrics.pairwise import pairwise_distances\n",
    "import numpy as np"
   ]
  },
  {
   "cell_type": "code",
   "execution_count": 8,
   "metadata": {},
   "outputs": [],
   "source": [
    "X = np.array([[1,1,1],[2,2,2],[3,3,3]])\n",
    "Y = np.array([1,1,1]).reshape(1, -1)"
   ]
  },
  {
   "cell_type": "code",
   "execution_count": 9,
   "metadata": {},
   "outputs": [
    {
     "data": {
      "text/plain": [
       "array([[0.        , 1.73205081, 3.46410162],\n",
       "       [1.73205081, 0.        , 1.73205081],\n",
       "       [3.46410162, 1.73205081, 0.        ]])"
      ]
     },
     "execution_count": 9,
     "metadata": {},
     "output_type": "execute_result"
    }
   ],
   "source": [
    "pairwise_distances(X)"
   ]
  },
  {
   "cell_type": "code",
   "execution_count": 10,
   "metadata": {},
   "outputs": [
    {
     "data": {
      "text/plain": [
       "array([[0.        ],\n",
       "       [1.73205081],\n",
       "       [3.46410162]])"
      ]
     },
     "execution_count": 10,
     "metadata": {},
     "output_type": "execute_result"
    }
   ],
   "source": [
    "pairwise_distances(X,Y)"
   ]
  },
  {
   "cell_type": "code",
   "execution_count": 11,
   "metadata": {},
   "outputs": [
    {
     "data": {
      "text/plain": [
       "(2, 3)"
      ]
     },
     "execution_count": 11,
     "metadata": {},
     "output_type": "execute_result"
    }
   ],
   "source": [
    "B = np.array([[1,2,3],[1,2,3]])\n",
    "B.shape"
   ]
  },
  {
   "cell_type": "code",
   "execution_count": 12,
   "metadata": {},
   "outputs": [
    {
     "name": "stdout",
     "output_type": "stream",
     "text": [
      "The Original Array Content\n",
      "[23 12  1  3  4  5  6]\n"
     ]
    },
    {
     "data": {
      "text/plain": [
       "array([4, 3, 2, 5, 6, 1, 0], dtype=int64)"
      ]
     },
     "execution_count": 12,
     "metadata": {},
     "output_type": "execute_result"
    }
   ],
   "source": [
    "arr = np.array([23, 12, 1, 3, 4, 5, 6])\n",
    "print(\"The Original Array Content\")\n",
    "print(arr)\n",
    "  \n",
    "# value of k\n",
    "k = 4\n",
    "  \n",
    "# using np.argpartition()\n",
    "result = np.argpartition(arr, k)\n",
    "result"
   ]
  },
  {
   "cell_type": "code",
   "execution_count": 23,
   "metadata": {},
   "outputs": [],
   "source": [
    "nearest_label = np.array([[1,1,2],[3,3,4]])"
   ]
  },
  {
   "cell_type": "code",
   "execution_count": 24,
   "metadata": {},
   "outputs": [
    {
     "data": {
      "text/plain": [
       "array([1, 3])"
      ]
     },
     "execution_count": 24,
     "metadata": {},
     "output_type": "execute_result"
    }
   ],
   "source": [
    "np.unique(nearest_label, axis=1)[:,0]"
   ]
  },
  {
   "cell_type": "code",
   "execution_count": 25,
   "metadata": {},
   "outputs": [],
   "source": [
    "from sklearn.utils.multiclass import check_classification_targets"
   ]
  },
  {
   "cell_type": "code",
   "execution_count": 26,
   "metadata": {},
   "outputs": [
    {
     "name": "stdout",
     "output_type": "stream",
     "text": [
      "\u001b[1;31mSignature:\u001b[0m \u001b[0mcheck_classification_targets\u001b[0m\u001b[1;33m(\u001b[0m\u001b[0my\u001b[0m\u001b[1;33m)\u001b[0m\u001b[1;33m\u001b[0m\u001b[1;33m\u001b[0m\u001b[0m\n",
      "\u001b[1;31mDocstring:\u001b[0m\n",
      "Ensure that target y is of a non-regression type.\n",
      "\n",
      "Only the following target types (as defined in type_of_target) are allowed:\n",
      "    'binary', 'multiclass', 'multiclass-multioutput',\n",
      "    'multilabel-indicator', 'multilabel-sequences'\n",
      "\n",
      "Parameters\n",
      "----------\n",
      "y : array-like\n",
      "    Target values.\n",
      "\u001b[1;31mFile:\u001b[0m      c:\\users\\annie\\appdata\\local\\packages\\pythonsoftwarefoundation.python.3.10_qbz5n2kfra8p0\\localcache\\local-packages\\python310\\site-packages\\sklearn\\utils\\multiclass.py\n",
      "\u001b[1;31mType:\u001b[0m      function\n"
     ]
    }
   ],
   "source": [
    "check_classification_targets?"
   ]
  },
  {
   "cell_type": "code",
   "execution_count": 3,
   "metadata": {},
   "outputs": [],
   "source": [
    "y_pred = np.array([1,0,1,0,1])\n",
    "y = np.array([1,1,1,0,1])"
   ]
  },
  {
   "cell_type": "code",
   "execution_count": 2,
   "metadata": {},
   "outputs": [],
   "source": [
    "import numpy as np"
   ]
  },
  {
   "cell_type": "code",
   "execution_count": 6,
   "metadata": {},
   "outputs": [
    {
     "data": {
      "text/plain": [
       "array([ True, False,  True,  True,  True])"
      ]
     },
     "execution_count": 6,
     "metadata": {},
     "output_type": "execute_result"
    }
   ],
   "source": [
    "(y_pred == y)"
   ]
  },
  {
   "cell_type": "code",
   "execution_count": 7,
   "metadata": {},
   "outputs": [
    {
     "data": {
      "text/plain": [
       "0.8"
      ]
     },
     "execution_count": 7,
     "metadata": {},
     "output_type": "execute_result"
    }
   ],
   "source": [
    "score = 0\n",
    "for i in range(len(y)):\n",
    "    if y[i] == y_pred[i]:\n",
    "        score += 1\n",
    "score/len(y)"
   ]
  },
  {
   "cell_type": "code",
   "execution_count": 6,
   "metadata": {},
   "outputs": [],
   "source": [
    "import numpy as np\n",
    "import pandas as pd\n",
    "from numpy.testing import assert_array_equal\n",
    "\n",
    "from sklearn.utils.estimator_checks import check_estimator\n",
    "from sklearn.model_selection import train_test_split\n",
    "from sklearn.utils import shuffle\n",
    "from sklearn.datasets import make_classification\n",
    "from sklearn.neighbors import KNeighborsClassifier\n",
    "\n",
    "from sklearn_questions import KNearestNeighbors\n",
    "from sklearn_questions import MonthlySplit"
   ]
  },
  {
   "cell_type": "code",
   "execution_count": 7,
   "metadata": {},
   "outputs": [],
   "source": [
    "X, y = make_classification(n_samples=200, n_features=20,\n",
    "                               random_state=42)"
   ]
  },
  {
   "cell_type": "code",
   "execution_count": 9,
   "metadata": {},
   "outputs": [],
   "source": [
    "X_train, X_test, y_train, y_test = train_test_split(X, y, random_state=42)"
   ]
  },
  {
   "cell_type": "code",
   "execution_count": 10,
   "metadata": {},
   "outputs": [],
   "source": [
    "knn = KNeighborsClassifier(n_neighbors=3)\n",
    "y_pred_sk = knn.fit(X_train, y_train).predict(X_test)"
   ]
  },
  {
   "cell_type": "code",
   "execution_count": 11,
   "metadata": {},
   "outputs": [
    {
     "data": {
      "text/plain": [
       "(150, 20)"
      ]
     },
     "execution_count": 11,
     "metadata": {},
     "output_type": "execute_result"
    }
   ],
   "source": [
    "X_train.shape"
   ]
  },
  {
   "cell_type": "code",
   "execution_count": 12,
   "metadata": {},
   "outputs": [
    {
     "data": {
      "text/plain": [
       "(150,)"
      ]
     },
     "execution_count": 12,
     "metadata": {},
     "output_type": "execute_result"
    }
   ],
   "source": [
    "y_train.shape"
   ]
  },
  {
   "cell_type": "code",
   "execution_count": 13,
   "metadata": {},
   "outputs": [
    {
     "data": {
      "text/plain": [
       "array([0, 0, 0, 1, 1, 0, 0, 1, 0, 1, 0, 0, 1, 1, 1, 0, 1, 1, 1, 0, 0, 1,\n",
       "       1, 1, 0, 1, 0, 1, 1, 0, 0, 1, 0, 1, 1, 1, 1, 0, 0, 0, 0, 1, 1, 0,\n",
       "       1, 0, 1, 0, 0, 0])"
      ]
     },
     "execution_count": 13,
     "metadata": {},
     "output_type": "execute_result"
    }
   ],
   "source": [
    "y_pred_sk"
   ]
  },
  {
   "cell_type": "code",
   "execution_count": 15,
   "metadata": {},
   "outputs": [],
   "source": [
    "from sklearn.metrics.pairwise import pairwise_distances"
   ]
  },
  {
   "cell_type": "code",
   "execution_count": 42,
   "metadata": {},
   "outputs": [
    {
     "data": {
      "text/plain": [
       "[0,\n",
       " 0,\n",
       " 0,\n",
       " 1,\n",
       " 1,\n",
       " 0,\n",
       " 0,\n",
       " 0,\n",
       " 0,\n",
       " 0,\n",
       " 0,\n",
       " 0,\n",
       " 0,\n",
       " 1,\n",
       " 0,\n",
       " 0,\n",
       " 1,\n",
       " 0,\n",
       " 0,\n",
       " 0,\n",
       " 0,\n",
       " 1,\n",
       " 0,\n",
       " 1,\n",
       " 0,\n",
       " 0,\n",
       " 0,\n",
       " 0,\n",
       " 0,\n",
       " 0,\n",
       " 0,\n",
       " 0,\n",
       " 0,\n",
       " 0,\n",
       " 0,\n",
       " 1,\n",
       " 0,\n",
       " 0,\n",
       " 0,\n",
       " 0,\n",
       " 0,\n",
       " 0,\n",
       " 0,\n",
       " 0,\n",
       " 0,\n",
       " 0,\n",
       " 1,\n",
       " 0,\n",
       " 0,\n",
       " 0]"
      ]
     },
     "execution_count": 42,
     "metadata": {},
     "output_type": "execute_result"
    }
   ],
   "source": [
    "distances = pairwise_distances(X_test, X_train)\n",
    "nearest_indexes = np.argsort(distances)\n",
    "k_nearest_indexes = nearest_indexes[:, :3]\n",
    "# most seen labels\n",
    "k_nearest_label = y_train[k_nearest_indexes]\n",
    "y_pred = [np.unique(K)[0] for K in k_nearest_label] \n",
    "y_pred"
   ]
  },
  {
   "cell_type": "code",
   "execution_count": 46,
   "metadata": {},
   "outputs": [
    {
     "name": "stdout",
     "output_type": "stream",
     "text": [
      "\u001b[1;31mSignature:\u001b[0m\n",
      "\u001b[0mnp\u001b[0m\u001b[1;33m.\u001b[0m\u001b[0munique\u001b[0m\u001b[1;33m(\u001b[0m\u001b[1;33m\n",
      "\u001b[0m    \u001b[0mar\u001b[0m\u001b[1;33m,\u001b[0m\u001b[1;33m\n",
      "\u001b[0m    \u001b[0mreturn_index\u001b[0m\u001b[1;33m=\u001b[0m\u001b[1;32mFalse\u001b[0m\u001b[1;33m,\u001b[0m\u001b[1;33m\n",
      "\u001b[0m    \u001b[0mreturn_inverse\u001b[0m\u001b[1;33m=\u001b[0m\u001b[1;32mFalse\u001b[0m\u001b[1;33m,\u001b[0m\u001b[1;33m\n",
      "\u001b[0m    \u001b[0mreturn_counts\u001b[0m\u001b[1;33m=\u001b[0m\u001b[1;32mFalse\u001b[0m\u001b[1;33m,\u001b[0m\u001b[1;33m\n",
      "\u001b[0m    \u001b[0maxis\u001b[0m\u001b[1;33m=\u001b[0m\u001b[1;32mNone\u001b[0m\u001b[1;33m,\u001b[0m\u001b[1;33m\n",
      "\u001b[0m    \u001b[1;33m*\u001b[0m\u001b[1;33m,\u001b[0m\u001b[1;33m\n",
      "\u001b[0m    \u001b[0mequal_nan\u001b[0m\u001b[1;33m=\u001b[0m\u001b[1;32mTrue\u001b[0m\u001b[1;33m,\u001b[0m\u001b[1;33m\n",
      "\u001b[0m\u001b[1;33m)\u001b[0m\u001b[1;33m\u001b[0m\u001b[1;33m\u001b[0m\u001b[0m\n",
      "\u001b[1;31mDocstring:\u001b[0m\n",
      "Find the unique elements of an array.\n",
      "\n",
      "Returns the sorted unique elements of an array. There are three optional\n",
      "outputs in addition to the unique elements:\n",
      "\n",
      "* the indices of the input array that give the unique values\n",
      "* the indices of the unique array that reconstruct the input array\n",
      "* the number of times each unique value comes up in the input array\n",
      "\n",
      "Parameters\n",
      "----------\n",
      "ar : array_like\n",
      "    Input array. Unless `axis` is specified, this will be flattened if it\n",
      "    is not already 1-D.\n",
      "return_index : bool, optional\n",
      "    If True, also return the indices of `ar` (along the specified axis,\n",
      "    if provided, or in the flattened array) that result in the unique array.\n",
      "return_inverse : bool, optional\n",
      "    If True, also return the indices of the unique array (for the specified\n",
      "    axis, if provided) that can be used to reconstruct `ar`.\n",
      "return_counts : bool, optional\n",
      "    If True, also return the number of times each unique item appears\n",
      "    in `ar`.\n",
      "axis : int or None, optional\n",
      "    The axis to operate on. If None, `ar` will be flattened. If an integer,\n",
      "    the subarrays indexed by the given axis will be flattened and treated\n",
      "    as the elements of a 1-D array with the dimension of the given axis,\n",
      "    see the notes for more details.  Object arrays or structured arrays\n",
      "    that contain objects are not supported if the `axis` kwarg is used. The\n",
      "    default is None.\n",
      "\n",
      "    .. versionadded:: 1.13.0\n",
      "\n",
      "equal_nan : bool, optional\n",
      "    If True, collapses multiple NaN values in the return array into one.\n",
      "\n",
      "    .. versionadded:: 1.24\n",
      "\n",
      "Returns\n",
      "-------\n",
      "unique : ndarray\n",
      "    The sorted unique values.\n",
      "unique_indices : ndarray, optional\n",
      "    The indices of the first occurrences of the unique values in the\n",
      "    original array. Only provided if `return_index` is True.\n",
      "unique_inverse : ndarray, optional\n",
      "    The indices to reconstruct the original array from the\n",
      "    unique array. Only provided if `return_inverse` is True.\n",
      "unique_counts : ndarray, optional\n",
      "    The number of times each of the unique values comes up in the\n",
      "    original array. Only provided if `return_counts` is True.\n",
      "\n",
      "    .. versionadded:: 1.9.0\n",
      "\n",
      "See Also\n",
      "--------\n",
      "numpy.lib.arraysetops : Module with a number of other functions for\n",
      "                        performing set operations on arrays.\n",
      "repeat : Repeat elements of an array.\n",
      "\n",
      "Notes\n",
      "-----\n",
      "When an axis is specified the subarrays indexed by the axis are sorted.\n",
      "This is done by making the specified axis the first dimension of the array\n",
      "(move the axis to the first dimension to keep the order of the other axes)\n",
      "and then flattening the subarrays in C order. The flattened subarrays are\n",
      "then viewed as a structured type with each element given a label, with the\n",
      "effect that we end up with a 1-D array of structured types that can be\n",
      "treated in the same way as any other 1-D array. The result is that the\n",
      "flattened subarrays are sorted in lexicographic order starting with the\n",
      "first element.\n",
      "\n",
      ".. versionchanged: NumPy 1.21\n",
      "    If nan values are in the input array, a single nan is put\n",
      "    to the end of the sorted unique values.\n",
      "\n",
      "    Also for complex arrays all NaN values are considered equivalent\n",
      "    (no matter whether the NaN is in the real or imaginary part).\n",
      "    As the representant for the returned array the smallest one in the\n",
      "    lexicographical order is chosen - see np.sort for how the lexicographical\n",
      "    order is defined for complex arrays.\n",
      "\n",
      "Examples\n",
      "--------\n",
      ">>> np.unique([1, 1, 2, 2, 3, 3])\n",
      "array([1, 2, 3])\n",
      ">>> a = np.array([[1, 1], [2, 3]])\n",
      ">>> np.unique(a)\n",
      "array([1, 2, 3])\n",
      "\n",
      "Return the unique rows of a 2D array\n",
      "\n",
      ">>> a = np.array([[1, 0, 0], [1, 0, 0], [2, 3, 4]])\n",
      ">>> np.unique(a, axis=0)\n",
      "array([[1, 0, 0], [2, 3, 4]])\n",
      "\n",
      "Return the indices of the original array that give the unique values:\n",
      "\n",
      ">>> a = np.array(['a', 'b', 'b', 'c', 'a'])\n",
      ">>> u, indices = np.unique(a, return_index=True)\n",
      ">>> u\n",
      "array(['a', 'b', 'c'], dtype='<U1')\n",
      ">>> indices\n",
      "array([0, 1, 3])\n",
      ">>> a[indices]\n",
      "array(['a', 'b', 'c'], dtype='<U1')\n",
      "\n",
      "Reconstruct the input array from the unique values and inverse:\n",
      "\n",
      ">>> a = np.array([1, 2, 6, 4, 2, 3, 2])\n",
      ">>> u, indices = np.unique(a, return_inverse=True)\n",
      ">>> u\n",
      "array([1, 2, 3, 4, 6])\n",
      ">>> indices\n",
      "array([0, 1, 4, 3, 1, 2, 1])\n",
      ">>> u[indices]\n",
      "array([1, 2, 6, 4, 2, 3, 2])\n",
      "\n",
      "Reconstruct the input values from the unique values and counts:\n",
      "\n",
      ">>> a = np.array([1, 2, 6, 4, 2, 3, 2])\n",
      ">>> values, counts = np.unique(a, return_counts=True)\n",
      ">>> values\n",
      "array([1, 2, 3, 4, 6])\n",
      ">>> counts\n",
      "array([1, 3, 1, 1, 1])\n",
      ">>> np.repeat(values, counts)\n",
      "array([1, 2, 2, 2, 3, 4, 6])    # original order not preserved\n",
      "\u001b[1;31mFile:\u001b[0m      c:\\users\\annie\\appdata\\local\\packages\\pythonsoftwarefoundation.python.3.10_qbz5n2kfra8p0\\localcache\\local-packages\\python310\\site-packages\\numpy\\lib\\arraysetops.py\n",
      "\u001b[1;31mType:\u001b[0m      function\n"
     ]
    }
   ],
   "source": [
    "np.unique?"
   ]
  },
  {
   "cell_type": "code",
   "execution_count": 45,
   "metadata": {},
   "outputs": [
    {
     "data": {
      "text/plain": [
       "array([ True,  True,  True,  True,  True,  True,  True, False,  True,\n",
       "       False,  True,  True, False,  True, False,  True,  True, False,\n",
       "       False,  True,  True,  True, False,  True,  True, False,  True,\n",
       "       False, False,  True,  True, False,  True, False, False,  True,\n",
       "       False,  True,  True,  True,  True, False, False,  True, False,\n",
       "        True,  True,  True,  True,  True])"
      ]
     },
     "execution_count": 45,
     "metadata": {},
     "output_type": "execute_result"
    }
   ],
   "source": [
    "np.array(y_pred) == y_pred_sk"
   ]
  },
  {
   "cell_type": "code",
   "execution_count": 20,
   "metadata": {},
   "outputs": [
    {
     "name": "stdout",
     "output_type": "stream",
     "text": [
      "\u001b[1;31mSignature:\u001b[0m \u001b[0mnp\u001b[0m\u001b[1;33m.\u001b[0m\u001b[0margsort\u001b[0m\u001b[1;33m(\u001b[0m\u001b[0ma\u001b[0m\u001b[1;33m,\u001b[0m \u001b[0maxis\u001b[0m\u001b[1;33m=\u001b[0m\u001b[1;33m-\u001b[0m\u001b[1;36m1\u001b[0m\u001b[1;33m,\u001b[0m \u001b[0mkind\u001b[0m\u001b[1;33m=\u001b[0m\u001b[1;32mNone\u001b[0m\u001b[1;33m,\u001b[0m \u001b[0morder\u001b[0m\u001b[1;33m=\u001b[0m\u001b[1;32mNone\u001b[0m\u001b[1;33m)\u001b[0m\u001b[1;33m\u001b[0m\u001b[1;33m\u001b[0m\u001b[0m\n",
      "\u001b[1;31mDocstring:\u001b[0m\n",
      "Returns the indices that would sort an array.\n",
      "\n",
      "Perform an indirect sort along the given axis using the algorithm specified\n",
      "by the `kind` keyword. It returns an array of indices of the same shape as\n",
      "`a` that index data along the given axis in sorted order.\n",
      "\n",
      "Parameters\n",
      "----------\n",
      "a : array_like\n",
      "    Array to sort.\n",
      "axis : int or None, optional\n",
      "    Axis along which to sort.  The default is -1 (the last axis). If None,\n",
      "    the flattened array is used.\n",
      "kind : {'quicksort', 'mergesort', 'heapsort', 'stable'}, optional\n",
      "    Sorting algorithm. The default is 'quicksort'. Note that both 'stable'\n",
      "    and 'mergesort' use timsort under the covers and, in general, the\n",
      "    actual implementation will vary with data type. The 'mergesort' option\n",
      "    is retained for backwards compatibility.\n",
      "\n",
      "    .. versionchanged:: 1.15.0.\n",
      "       The 'stable' option was added.\n",
      "order : str or list of str, optional\n",
      "    When `a` is an array with fields defined, this argument specifies\n",
      "    which fields to compare first, second, etc.  A single field can\n",
      "    be specified as a string, and not all fields need be specified,\n",
      "    but unspecified fields will still be used, in the order in which\n",
      "    they come up in the dtype, to break ties.\n",
      "\n",
      "Returns\n",
      "-------\n",
      "index_array : ndarray, int\n",
      "    Array of indices that sort `a` along the specified `axis`.\n",
      "    If `a` is one-dimensional, ``a[index_array]`` yields a sorted `a`.\n",
      "    More generally, ``np.take_along_axis(a, index_array, axis=axis)``\n",
      "    always yields the sorted `a`, irrespective of dimensionality.\n",
      "\n",
      "See Also\n",
      "--------\n",
      "sort : Describes sorting algorithms used.\n",
      "lexsort : Indirect stable sort with multiple keys.\n",
      "ndarray.sort : Inplace sort.\n",
      "argpartition : Indirect partial sort.\n",
      "take_along_axis : Apply ``index_array`` from argsort\n",
      "                  to an array as if by calling sort.\n",
      "\n",
      "Notes\n",
      "-----\n",
      "See `sort` for notes on the different sorting algorithms.\n",
      "\n",
      "As of NumPy 1.4.0 `argsort` works with real/complex arrays containing\n",
      "nan values. The enhanced sort order is documented in `sort`.\n",
      "\n",
      "Examples\n",
      "--------\n",
      "One dimensional array:\n",
      "\n",
      ">>> x = np.array([3, 1, 2])\n",
      ">>> np.argsort(x)\n",
      "array([1, 2, 0])\n",
      "\n",
      "Two-dimensional array:\n",
      "\n",
      ">>> x = np.array([[0, 3], [2, 2]])\n",
      ">>> x\n",
      "array([[0, 3],\n",
      "       [2, 2]])\n",
      "\n",
      ">>> ind = np.argsort(x, axis=0)  # sorts along first axis (down)\n",
      ">>> ind\n",
      "array([[0, 1],\n",
      "       [1, 0]])\n",
      ">>> np.take_along_axis(x, ind, axis=0)  # same as np.sort(x, axis=0)\n",
      "array([[0, 2],\n",
      "       [2, 3]])\n",
      "\n",
      ">>> ind = np.argsort(x, axis=1)  # sorts along last axis (across)\n",
      ">>> ind\n",
      "array([[0, 1],\n",
      "       [0, 1]])\n",
      ">>> np.take_along_axis(x, ind, axis=1)  # same as np.sort(x, axis=1)\n",
      "array([[0, 3],\n",
      "       [2, 2]])\n",
      "\n",
      "Indices of the sorted elements of a N-dimensional array:\n",
      "\n",
      ">>> ind = np.unravel_index(np.argsort(x, axis=None), x.shape)\n",
      ">>> ind\n",
      "(array([0, 1, 1, 0]), array([0, 0, 1, 1]))\n",
      ">>> x[ind]  # same as np.sort(x, axis=None)\n",
      "array([0, 2, 2, 3])\n",
      "\n",
      "Sorting with keys:\n",
      "\n",
      ">>> x = np.array([(1, 0), (0, 1)], dtype=[('x', '<i4'), ('y', '<i4')])\n",
      ">>> x\n",
      "array([(1, 0), (0, 1)],\n",
      "      dtype=[('x', '<i4'), ('y', '<i4')])\n",
      "\n",
      ">>> np.argsort(x, order=('x','y'))\n",
      "array([1, 0])\n",
      "\n",
      ">>> np.argsort(x, order=('y','x'))\n",
      "array([0, 1])\n",
      "\u001b[1;31mFile:\u001b[0m      c:\\users\\annie\\appdata\\local\\packages\\pythonsoftwarefoundation.python.3.10_qbz5n2kfra8p0\\localcache\\local-packages\\python310\\site-packages\\numpy\\core\\fromnumeric.py\n",
      "\u001b[1;31mType:\u001b[0m      function\n"
     ]
    }
   ],
   "source": [
    "np.argsort?"
   ]
  },
  {
   "cell_type": "code",
   "execution_count": 3,
   "metadata": {},
   "outputs": [
    {
     "ename": "NameError",
     "evalue": "name 'np' is not defined",
     "output_type": "error",
     "traceback": [
      "\u001b[1;31m---------------------------------------------------------------------------\u001b[0m",
      "\u001b[1;31mNameError\u001b[0m                                 Traceback (most recent call last)",
      "Cell \u001b[1;32mIn[3], line 1\u001b[0m\n\u001b[1;32m----> 1\u001b[0m X_train \u001b[39m=\u001b[39m np\u001b[39m.\u001b[39marray([[\u001b[39m1\u001b[39m,\u001b[39m1\u001b[39m,\u001b[39m1\u001b[39m,\u001b[39m1\u001b[39m]])\n",
      "\u001b[1;31mNameError\u001b[0m: name 'np' is not defined"
     ]
    }
   ],
   "source": [
    "X_train = np.array([[1,1,1,1]])"
   ]
  },
  {
   "cell_type": "code",
   "execution_count": 5,
   "metadata": {},
   "outputs": [
    {
     "name": "stdout",
     "output_type": "stream",
     "text": [
      "\u001b[1;31mSignature:\u001b[0m\n",
      "\u001b[0mnp\u001b[0m\u001b[1;33m.\u001b[0m\u001b[0munique\u001b[0m\u001b[1;33m(\u001b[0m\u001b[1;33m\n",
      "\u001b[0m    \u001b[0mar\u001b[0m\u001b[1;33m,\u001b[0m\u001b[1;33m\n",
      "\u001b[0m    \u001b[0mreturn_index\u001b[0m\u001b[1;33m=\u001b[0m\u001b[1;32mFalse\u001b[0m\u001b[1;33m,\u001b[0m\u001b[1;33m\n",
      "\u001b[0m    \u001b[0mreturn_inverse\u001b[0m\u001b[1;33m=\u001b[0m\u001b[1;32mFalse\u001b[0m\u001b[1;33m,\u001b[0m\u001b[1;33m\n",
      "\u001b[0m    \u001b[0mreturn_counts\u001b[0m\u001b[1;33m=\u001b[0m\u001b[1;32mFalse\u001b[0m\u001b[1;33m,\u001b[0m\u001b[1;33m\n",
      "\u001b[0m    \u001b[0maxis\u001b[0m\u001b[1;33m=\u001b[0m\u001b[1;32mNone\u001b[0m\u001b[1;33m,\u001b[0m\u001b[1;33m\n",
      "\u001b[0m    \u001b[1;33m*\u001b[0m\u001b[1;33m,\u001b[0m\u001b[1;33m\n",
      "\u001b[0m    \u001b[0mequal_nan\u001b[0m\u001b[1;33m=\u001b[0m\u001b[1;32mTrue\u001b[0m\u001b[1;33m,\u001b[0m\u001b[1;33m\n",
      "\u001b[0m\u001b[1;33m)\u001b[0m\u001b[1;33m\u001b[0m\u001b[1;33m\u001b[0m\u001b[0m\n",
      "\u001b[1;31mDocstring:\u001b[0m\n",
      "Find the unique elements of an array.\n",
      "\n",
      "Returns the sorted unique elements of an array. There are three optional\n",
      "outputs in addition to the unique elements:\n",
      "\n",
      "* the indices of the input array that give the unique values\n",
      "* the indices of the unique array that reconstruct the input array\n",
      "* the number of times each unique value comes up in the input array\n",
      "\n",
      "Parameters\n",
      "----------\n",
      "ar : array_like\n",
      "    Input array. Unless `axis` is specified, this will be flattened if it\n",
      "    is not already 1-D.\n",
      "return_index : bool, optional\n",
      "    If True, also return the indices of `ar` (along the specified axis,\n",
      "    if provided, or in the flattened array) that result in the unique array.\n",
      "return_inverse : bool, optional\n",
      "    If True, also return the indices of the unique array (for the specified\n",
      "    axis, if provided) that can be used to reconstruct `ar`.\n",
      "return_counts : bool, optional\n",
      "    If True, also return the number of times each unique item appears\n",
      "    in `ar`.\n",
      "axis : int or None, optional\n",
      "    The axis to operate on. If None, `ar` will be flattened. If an integer,\n",
      "    the subarrays indexed by the given axis will be flattened and treated\n",
      "    as the elements of a 1-D array with the dimension of the given axis,\n",
      "    see the notes for more details.  Object arrays or structured arrays\n",
      "    that contain objects are not supported if the `axis` kwarg is used. The\n",
      "    default is None.\n",
      "\n",
      "    .. versionadded:: 1.13.0\n",
      "\n",
      "equal_nan : bool, optional\n",
      "    If True, collapses multiple NaN values in the return array into one.\n",
      "\n",
      "    .. versionadded:: 1.24\n",
      "\n",
      "Returns\n",
      "-------\n",
      "unique : ndarray\n",
      "    The sorted unique values.\n",
      "unique_indices : ndarray, optional\n",
      "    The indices of the first occurrences of the unique values in the\n",
      "    original array. Only provided if `return_index` is True.\n",
      "unique_inverse : ndarray, optional\n",
      "    The indices to reconstruct the original array from the\n",
      "    unique array. Only provided if `return_inverse` is True.\n",
      "unique_counts : ndarray, optional\n",
      "    The number of times each of the unique values comes up in the\n",
      "    original array. Only provided if `return_counts` is True.\n",
      "\n",
      "    .. versionadded:: 1.9.0\n",
      "\n",
      "See Also\n",
      "--------\n",
      "numpy.lib.arraysetops : Module with a number of other functions for\n",
      "                        performing set operations on arrays.\n",
      "repeat : Repeat elements of an array.\n",
      "\n",
      "Notes\n",
      "-----\n",
      "When an axis is specified the subarrays indexed by the axis are sorted.\n",
      "This is done by making the specified axis the first dimension of the array\n",
      "(move the axis to the first dimension to keep the order of the other axes)\n",
      "and then flattening the subarrays in C order. The flattened subarrays are\n",
      "then viewed as a structured type with each element given a label, with the\n",
      "effect that we end up with a 1-D array of structured types that can be\n",
      "treated in the same way as any other 1-D array. The result is that the\n",
      "flattened subarrays are sorted in lexicographic order starting with the\n",
      "first element.\n",
      "\n",
      ".. versionchanged: NumPy 1.21\n",
      "    If nan values are in the input array, a single nan is put\n",
      "    to the end of the sorted unique values.\n",
      "\n",
      "    Also for complex arrays all NaN values are considered equivalent\n",
      "    (no matter whether the NaN is in the real or imaginary part).\n",
      "    As the representant for the returned array the smallest one in the\n",
      "    lexicographical order is chosen - see np.sort for how the lexicographical\n",
      "    order is defined for complex arrays.\n",
      "\n",
      "Examples\n",
      "--------\n",
      ">>> np.unique([1, 1, 2, 2, 3, 3])\n",
      "array([1, 2, 3])\n",
      ">>> a = np.array([[1, 1], [2, 3]])\n",
      ">>> np.unique(a)\n",
      "array([1, 2, 3])\n",
      "\n",
      "Return the unique rows of a 2D array\n",
      "\n",
      ">>> a = np.array([[1, 0, 0], [1, 0, 0], [2, 3, 4]])\n",
      ">>> np.unique(a, axis=0)\n",
      "array([[1, 0, 0], [2, 3, 4]])\n",
      "\n",
      "Return the indices of the original array that give the unique values:\n",
      "\n",
      ">>> a = np.array(['a', 'b', 'b', 'c', 'a'])\n",
      ">>> u, indices = np.unique(a, return_index=True)\n",
      ">>> u\n",
      "array(['a', 'b', 'c'], dtype='<U1')\n",
      ">>> indices\n",
      "array([0, 1, 3])\n",
      ">>> a[indices]\n",
      "array(['a', 'b', 'c'], dtype='<U1')\n",
      "\n",
      "Reconstruct the input array from the unique values and inverse:\n",
      "\n",
      ">>> a = np.array([1, 2, 6, 4, 2, 3, 2])\n",
      ">>> u, indices = np.unique(a, return_inverse=True)\n",
      ">>> u\n",
      "array([1, 2, 3, 4, 6])\n",
      ">>> indices\n",
      "array([0, 1, 4, 3, 1, 2, 1])\n",
      ">>> u[indices]\n",
      "array([1, 2, 6, 4, 2, 3, 2])\n",
      "\n",
      "Reconstruct the input values from the unique values and counts:\n",
      "\n",
      ">>> a = np.array([1, 2, 6, 4, 2, 3, 2])\n",
      ">>> values, counts = np.unique(a, return_counts=True)\n",
      ">>> values\n",
      "array([1, 2, 3, 4, 6])\n",
      ">>> counts\n",
      "array([1, 3, 1, 1, 1])\n",
      ">>> np.repeat(values, counts)\n",
      "array([1, 2, 2, 2, 3, 4, 6])    # original order not preserved\n",
      "\u001b[1;31mFile:\u001b[0m      c:\\users\\annie\\appdata\\local\\packages\\pythonsoftwarefoundation.python.3.10_qbz5n2kfra8p0\\localcache\\local-packages\\python310\\site-packages\\numpy\\lib\\arraysetops.py\n",
      "\u001b[1;31mType:\u001b[0m      function\n"
     ]
    }
   ],
   "source": [
    "np.unique?"
   ]
  },
  {
   "cell_type": "code",
   "execution_count": 4,
   "metadata": {},
   "outputs": [],
   "source": [
    "import numpy as np"
   ]
  },
  {
   "cell_type": "code",
   "execution_count": null,
   "metadata": {},
   "outputs": [],
   "source": []
  }
 ],
 "metadata": {
  "kernelspec": {
   "display_name": "Python 3",
   "language": "python",
   "name": "python3"
  },
  "language_info": {
   "codemirror_mode": {
    "name": "ipython",
    "version": 3
   },
   "file_extension": ".py",
   "mimetype": "text/x-python",
   "name": "python",
   "nbconvert_exporter": "python",
   "pygments_lexer": "ipython3",
   "version": "3.10.9 (tags/v3.10.9:1dd9be6, Dec  6 2022, 20:01:21) [MSC v.1934 64 bit (AMD64)]"
  },
  "orig_nbformat": 4,
  "vscode": {
   "interpreter": {
    "hash": "a8274140f474a89d2d845fbfe6f30f2658f719c20ec817bc33a96209f1b87e3a"
   }
  }
 },
 "nbformat": 4,
 "nbformat_minor": 2
}
